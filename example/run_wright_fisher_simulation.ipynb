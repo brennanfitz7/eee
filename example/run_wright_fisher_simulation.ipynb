{
 "cells": [
  {
   "cell_type": "code",
   "execution_count": null,
   "id": "8e11b788-2d0f-4432-b912-9b08c72f2dfc",
   "metadata": {},
   "outputs": [],
   "source": [
    "import eee\n",
    "\n",
    "%matplotlib inline\n",
    "from matplotlib import pyplot as plt\n",
    "\n",
    "import numpy as np"
   ]
  },
  {
   "cell_type": "markdown",
   "id": "7a924ee1-1e4b-4d8b-8505-a73c91397d6f",
   "metadata": {},
   "source": [
    "### Specify ensemble\n",
    "\n",
    "This ensemble has three species:\n",
    "\n",
    "hdna + 2IPTG <--> h + 2IPTG <--> l2e\n",
    "\n",
    "+ `hdna` (our observable, with dG0 = 0 kcal/mol)\n",
    "+ `h` (unobserved structure that does not bind to anything; dG0 = 5 kcal/mol)\n",
    "+ `l2e` (unobserved structure that binds to 2 iptg molecules; dG0 = 5 kcal/mol)\n",
    "\n",
    "At highly positive IPTG concentration (low concentration), `hdna` will be highly favored. At highly negative IPTG concentrations (high concentration), `l2e` is favored. \n"
   ]
  },
  {
   "cell_type": "code",
   "execution_count": null,
   "id": "3e0f2ad3-4416-4b35-b84a-7d0f85e940c8",
   "metadata": {
    "tags": []
   },
   "outputs": [],
   "source": [
    "ens = eee.core.Ensemble()\n",
    "ens.add_species(\"hdna\",dG0=0,observable=True)\n",
    "ens.add_species(\"h\",dG0=5)\n",
    "ens.add_species(\"l2e\",dG0=5,observable=False,iptg=2)\n",
    "\n",
    "df = ens.get_obs(ligand_dict={\"iptg\":np.linspace(0,5)})\n",
    "fig, ax = plt.subplots(1,figsize=(6,6))\n",
    "ax.plot(df.iptg,df.fx_obs)\n",
    "ax.set_xlabel(\"ln([iptg]) chemical potential\")\n",
    "ax.set_ylabel(\"fraction hdna\")\n",
    "\n",
    "ax.plot((1,1),(0,1),'--',color='gray')\n",
    "ax.plot((4,4),(0,1),'--',color='gray')\n",
    "ax.set_title(\"increasing iptg disfavors hdna\")\n",
    "None"
   ]
  },
  {
   "cell_type": "markdown",
   "id": "25a3f3c6-8dc4-404c-afa7-88e72d6f3de3",
   "metadata": {},
   "source": [
    "### Load in $\\Delta \\Delta G$\n",
    "\n",
    "Load in a spreadsheet with the energetics effects of mutations on all species in the ensemble. "
   ]
  },
  {
   "cell_type": "code",
   "execution_count": null,
   "id": "73931919-f875-40fb-ae30-5e0cafbc296c",
   "metadata": {},
   "outputs": [],
   "source": [
    "ddg_df = eee.io.read_ddg(\"../tests/data_for_tests/test_ddg/ddg.csv\")\n",
    "ddg_df"
   ]
  },
  {
   "cell_type": "markdown",
   "id": "ec49227b-46fb-4cc3-94a4-9eb857a35727",
   "metadata": {},
   "source": [
    "### Simulate evolution\n",
    "\n",
    "For this, we are going to use the `eee.evolve.simulate_evolution` function. First, see what it's arguments are.\n"
   ]
  },
  {
   "cell_type": "markdown",
   "id": "ff743765-b603-4271-8333-304faf59ba35",
   "metadata": {},
   "source": [
    "### Run evolutionary simulation\n",
    "\n",
    "In this run, we select over 100 generations for the protein to be `off` for $\\mu _{iptg} = 1$ and `on` for $\\mu _{iptg} = 4$. Our population size is 1000 and our mutation rate 0.01."
   ]
  },
  {
   "cell_type": "code",
   "execution_count": null,
   "id": "e0765ec5-6894-4945-84c1-e21fd2c4bbd4",
   "metadata": {},
   "outputs": [],
   "source": [
    "conditions = {\"fitness_fcn\":[\"off\",\"on\"],\n",
    "              \"iptg\":[1,4],\n",
    "              \"select_on\":\"fx_obs\",\n",
    "              \"select_on_folded\":True}\n",
    "\n",
    "sc = eee.calcs.WrightFisherSimulation(ens=ens,\n",
    "                                      ddg_df=ddg_df,\n",
    "                                      conditions=conditions)\n",
    "# Delete output directory if it already exists\n",
    "import os\n",
    "import shutil\n",
    "if os.path.exists(\"test_run\"):\n",
    "    shutil.rmtree(\"test_run\")\n",
    "\n",
    "sc.run(output_directory=\"test_run\",\n",
    "       population_size=1000,\n",
    "       mutation_rate=0.01,\n",
    "       num_generations=1000)"
   ]
  },
  {
   "cell_type": "code",
   "execution_count": null,
   "id": "cb539e27-a6d0-4106-9c80-68f6cec69b7f",
   "metadata": {},
   "outputs": [],
   "source": [
    "import json\n",
    "import os\n",
    "print(os.listdir(\"test_run/\"))\n",
    "\n",
    "with open(\"test_run/input/simulation.json\") as f:\n",
    "    run_info = json.load(f)\n",
    "print(run_info)"
   ]
  },
  {
   "cell_type": "code",
   "execution_count": null,
   "id": "3bc3f0b8-19bd-4141-84fd-62c5f544dcac",
   "metadata": {},
   "outputs": [],
   "source": [
    "import pandas as pd\n",
    "\n",
    "genotypes = pd.read_csv(\"test_run/eee_wf-sim_genotypes.csv\")\n",
    "genotypes"
   ]
  },
  {
   "cell_type": "code",
   "execution_count": null,
   "id": "fa4d10f1-b80b-4a9a-91e1-ce53e7b4d217",
   "metadata": {},
   "outputs": [],
   "source": [
    "import pickle\n",
    "with open(\"test_run/eee_wf-sim_generations_0.pickle\",\"rb\") as f:\n",
    "    generations = pickle.load(f)\n",
    "\n",
    "# First three generation\n",
    "generations[:3]"
   ]
  },
  {
   "cell_type": "markdown",
   "id": "4880d3f9-0340-44a1-a38c-70a55d5d876d",
   "metadata": {},
   "source": [
    "### Extract gentoype frequencies from the simulation"
   ]
  },
  {
   "cell_type": "code",
   "execution_count": null,
   "id": "6d6a6ff0-4de2-4404-a06d-3d587be73921",
   "metadata": {},
   "outputs": [],
   "source": [
    "df = eee.analysis.get_genotype_frequencies(generations)\n",
    "gen = np.arange(len(generations))\n",
    "for x in df.columns:\n",
    "    plt.plot(gen,df[x],'-')  \n",
    "    "
   ]
  },
  {
   "cell_type": "code",
   "execution_count": null,
   "id": "2030bc02-6843-4327-926f-6e575ec3f6d4",
   "metadata": {},
   "outputs": [],
   "source": []
  }
 ],
 "metadata": {
  "kernelspec": {
   "display_name": "Python 3 (ipykernel)",
   "language": "python",
   "name": "python3"
  },
  "language_info": {
   "codemirror_mode": {
    "name": "ipython",
    "version": 3
   },
   "file_extension": ".py",
   "mimetype": "text/x-python",
   "name": "python",
   "nbconvert_exporter": "python",
   "pygments_lexer": "ipython3",
   "version": "3.9.12"
  }
 },
 "nbformat": 4,
 "nbformat_minor": 5
}
