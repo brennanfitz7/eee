{
 "cells": [
  {
   "cell_type": "code",
   "execution_count": null,
   "id": "8e11b788-2d0f-4432-b912-9b08c72f2dfc",
   "metadata": {},
   "outputs": [],
   "source": [
    "import eee\n",
    "\n",
    "%matplotlib inline\n",
    "from matplotlib import pyplot as plt\n",
    "\n",
    "import numpy as np"
   ]
  },
  {
   "cell_type": "markdown",
   "id": "7a924ee1-1e4b-4d8b-8505-a73c91397d6f",
   "metadata": {},
   "source": [
    "### Specify ensemble\n",
    "\n",
    "This ensemble has three species:\n",
    "\n",
    "hdna + 2IPTG <--> h + 2IPTG <--> l2e\n",
    "\n",
    "+ `hdna` (our observable, with dG0 = 0 kcal/mol)\n",
    "+ `h` (unobserved structure that does not bind to anything; dG0 = 5 kcal/mol)\n",
    "+ `l2e` (unobserved structure that binds to 2 iptg molecules; dG0 = 5 kcal/mol)\n",
    "\n",
    "At highly positive IPTG concentration (low concentration), `hdna` will be highly favored. At highly negative IPTG concentrations (high concentration), `l2e` is favored. \n"
   ]
  },
  {
   "cell_type": "code",
   "execution_count": null,
   "id": "3e0f2ad3-4416-4b35-b84a-7d0f85e940c8",
   "metadata": {
    "tags": []
   },
   "outputs": [],
   "source": [
    "ens = eee.core.Ensemble()\n",
    "ens.add_species(\"hdna\",dG0=0,observable=True)\n",
    "ens.add_species(\"h\",dG0=5)\n",
    "ens.add_species(\"l2e\",dG0=5,observable=False,iptg=2)\n",
    "\n",
    "df = ens.get_obs(ligand_dict={\"iptg\":np.linspace(0,5)})\n",
    "fig, ax = plt.subplots(1,figsize=(6,6))\n",
    "ax.plot(df.iptg,df.fx_obs)\n",
    "ax.set_xlabel(\"ln([iptg]) chemical potential\")\n",
    "ax.set_ylabel(\"fraction hdna\")\n",
    "\n",
    "ax.plot((1,1),(0,1),'--',color='gray')\n",
    "ax.plot((4,4),(0,1),'--',color='gray')\n",
    "ax.set_title(\"increasing iptg disfavors hdna\")\n",
    "None"
   ]
  },
  {
   "cell_type": "markdown",
   "id": "25a3f3c6-8dc4-404c-afa7-88e72d6f3de3",
   "metadata": {},
   "source": [
    "### Load in $\\Delta \\Delta G$\n",
    "\n",
    "Load in a spreadsheet with the energetics effects of mutations on all species in the ensemble. "
   ]
  },
  {
   "cell_type": "code",
   "execution_count": null,
   "id": "73931919-f875-40fb-ae30-5e0cafbc296c",
   "metadata": {},
   "outputs": [],
   "source": [
    "ddg_df = eee.io.read_ddg(\"../tests/data_for_tests/test_ddg/ddg.csv\")\n",
    "ddg_df"
   ]
  },
  {
   "cell_type": "markdown",
   "id": "ec49227b-46fb-4cc3-94a4-9eb857a35727",
   "metadata": {},
   "source": [
    "### Simulate evolution\n",
    "\n",
    "For this, we are going to use the `eee.simulation.calcs.WrightFisherTreeSimulation` function. First, see what it's arguments are.\n"
   ]
  },
  {
   "cell_type": "code",
   "execution_count": null,
   "id": "39008562-c652-4376-9662-d8d1978b7c22",
   "metadata": {},
   "outputs": [],
   "source": [
    "#help(eee.simulation.calcs.WrightFisherTreeSimulation)"
   ]
  },
  {
   "cell_type": "markdown",
   "id": "ff743765-b603-4271-8333-304faf59ba35",
   "metadata": {},
   "source": [
    "### Run evolutionary simulation\n",
    "\n",
    "In this run, we select over 100 generations for the protein to be `on` for both $\\mu _{iptg} = -4$ and $\\mu _{iptg} = -1$. Our population size is 1000 and our mutation rate 0.01."
   ]
  },
  {
   "cell_type": "code",
   "execution_count": null,
   "id": "e0765ec5-6894-4945-84c1-e21fd2c4bbd4",
   "metadata": {},
   "outputs": [],
   "source": [
    "from eee.analysis.wf.on_tree import extract_alignment\n",
    "from eee.analysis.wf.on_tree import load_wf_tree_sim\n",
    "\n",
    "newick = '((A:0.1,B:0.5):0.5,(C:0.3,D:0.7):0.3);'\n",
    "\n",
    "conditions = {\"fitness_fcn\":[\"on\",\"off\"],\n",
    "              \"iptg\":[1,4]}\n",
    "\n",
    "wf = eee.calcs.WrightFisherTreeSimulation(ens=ens,\n",
    "                                          ddg_df=ddg_df,\n",
    "                                          conditions=conditions)\n",
    "\n",
    "# Delete output directory if it already exists\n",
    "import os\n",
    "import shutil\n",
    "if os.path.exists(\"eee_wf-tree\"):\n",
    "    shutil.rmtree(\"eee_wf-tree\")\n",
    "\n",
    "wf.run(tree=newick,\n",
    "       population_size=1000,\n",
    "       mutation_rate=0.01,\n",
    "       num_generations=10000,\n",
    "       burn_in_generations=10,\n",
    "       output_directory=\"eee_wf-tree\") \n",
    "\n",
    "out, fasta = extract_alignment(\"eee_wf-tree\",include_ancestors=True)\n",
    "print(fasta)\n"
   ]
  },
  {
   "cell_type": "code",
   "execution_count": null,
   "id": "e921c4c7-ba8a-483f-8d6e-656f2db10544",
   "metadata": {},
   "outputs": [],
   "source": [
    "from eee.analysis.wf.on_tree import load_wf_tree_sim\n",
    "sc, sc_kwargs, tree, genotypes = load_wf_tree_sim(\"eee_wf-tree\")\n",
    "tree.show()"
   ]
  },
  {
   "cell_type": "code",
   "execution_count": null,
   "id": "f85452dc-6056-492c-b4cc-cf2a18b1a0d8",
   "metadata": {},
   "outputs": [],
   "source": []
  },
  {
   "cell_type": "code",
   "execution_count": null,
   "id": "122c31db-f496-44cd-82ac-85852a75090e",
   "metadata": {},
   "outputs": [],
   "source": []
  }
 ],
 "metadata": {
  "kernelspec": {
   "display_name": "Python 3 (ipykernel)",
   "language": "python",
   "name": "python3"
  },
  "language_info": {
   "codemirror_mode": {
    "name": "ipython",
    "version": 3
   },
   "file_extension": ".py",
   "mimetype": "text/x-python",
   "name": "python",
   "nbconvert_exporter": "python",
   "pygments_lexer": "ipython3",
   "version": "3.9.12"
  }
 },
 "nbformat": 4,
 "nbformat_minor": 5
}
