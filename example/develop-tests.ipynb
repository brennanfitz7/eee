{
 "cells": [
  {
   "cell_type": "code",
   "execution_count": 8,
   "id": "17955206-8781-4270-a8bc-4af464740986",
   "metadata": {},
   "outputs": [],
   "source": [
    "import eee\n",
    "\n",
    "import pandas as pd\n",
    "import numpy as np\n",
    "\n",
    "from eee.ensemble import Ensemble\n",
    "from eee.evolve.fitness import FitnessContainer\n",
    "from eee.evolve.fitness import ff_on\n",
    "from eee.evolve.fitness import ff_off\n",
    "from eee.evolve.wright_fisher import wright_fisher\n",
    "\n",
    "\n",
    "# Basic ensemble\n",
    "ens = Ensemble(R=1)\n",
    "ens.add_species(name=\"s1\",\n",
    "                dG0=0,\n",
    "                observable=True)\n",
    "ens.add_species(name=\"s2\",\n",
    "                dG0=0.167,\n",
    "                observable=False,\n",
    "                mu_stoich={\"X\":2})\n",
    "\n",
    "mu_dict = {\"X\":[0,3.333,1]}\n",
    "\n",
    "ddg_df = pd.DataFrame({\"site\":[1,1],\n",
    "                       \"mut\":[\"A1V\",\"A1P\"],\n",
    "                       \"s1\":[-1.677,0.167],\n",
    "                       \"s2\":[3.333,-5000]})\n",
    "\n",
    "fc = FitnessContainer(ens,\n",
    "                      mu_dict,\n",
    "                      [ff_on,ff_off,ff_on],\n",
    "                      select_on=\"fx_obs\",\n",
    "                      fitness_kwargs={},\n",
    "                      T=1)\n",
    "\n",
    "gc = eee.evolve.genotype.GenotypeContainer(fc=fc,\n",
    "                                           ddg_df=ddg_df)\n"
   ]
  },
  {
   "cell_type": "code",
   "execution_count": 9,
   "id": "90a5bc6e-6495-4467-9073-16e4c0f22944",
   "metadata": {},
   "outputs": [
    {
     "data": {
      "text/plain": [
       "'a'"
      ]
     },
     "execution_count": 9,
     "metadata": {},
     "output_type": "execute_result"
    }
   ],
   "source": [
    "X = {\"a\":1,\"b\":2}\n",
    "\n",
    "next(iter(X))"
   ]
  },
  {
   "cell_type": "code",
   "execution_count": 10,
   "id": "aaeedb51-9076-42b3-95c4-f546035c8e2e",
   "metadata": {},
   "outputs": [],
   "source": [
    "ens._species[\"s1\"][\"mu_stoich\"] = {\"X\":0}\n",
    "\n",
    "z_matrix = np.zeros((len(ens.species),len(mu_dict[ens.mu_list[0]])),dtype=float)\n",
    "obs_mask = np.zeros(len(ens.species),dtype=bool)\n",
    "\n",
    "first_key = ens.mu_list[0]\n",
    "for i, name in enumerate(ens._species):\n",
    "    z_matrix[i,:] = ens._species[name][\"dG0\"]\n",
    "    \n",
    "    mu_stoich = ens._species[name][\"mu_stoich\"]\n",
    "    for j in range(len(mu_dict[ens.mu_list[0]])):\n",
    "        for mu in ens.mu_list:\n",
    "            z_matrix[i,j] += mu_dict[mu][j]*mu_stoich[mu]\n",
    "\n",
    "    obs_mask[i] = ens._species[name][\"observable\"]\n",
    "\n",
    "not_obs_mask = np.logical_not(obs_mask)\n",
    "\n",
    "#max_allowed = np.log(np.finfo('d').max)*0.9\n"
   ]
  },
  {
   "cell_type": "code",
   "execution_count": 11,
   "id": "74f80f47-dec0-4d80-bde6-1840934e25fa",
   "metadata": {},
   "outputs": [
    {
     "data": {
      "text/plain": [
       "array([[0.49441076, 0.5       , 0.49608762]])"
      ]
     },
     "execution_count": 11,
     "metadata": {},
     "output_type": "execute_result"
    }
   ],
   "source": [
    "\n",
    "beta = 1/(ens._R*298.15)\n",
    "\n",
    "mut_energy = np.array([1,2])\n",
    "\n",
    "weights = (z_matrix + mut_energy[:,None])*beta\n",
    "shift = max_allowed - np.max(weights,axis=1)\n",
    "weights = weights + shift[:,None]\n",
    "weights = np.exp(weights)\n",
    "\n",
    "obs = weights[obs_mask,:]\n",
    "not_obs = weights[not_obs_mask,:]\n",
    "\n",
    "not_obs/(not_obs + obs)\n",
    "\n"
   ]
  },
  {
   "cell_type": "code",
   "execution_count": 12,
   "id": "a23b8887-195a-4823-9c0a-00e275637034",
   "metadata": {},
   "outputs": [
    {
     "ename": "NameError",
     "evalue": "name 'self' is not defined",
     "output_type": "error",
     "traceback": [
      "\u001b[0;31m---------------------------------------------------------------------------\u001b[0m",
      "\u001b[0;31mNameError\u001b[0m                                 Traceback (most recent call last)",
      "Cell \u001b[0;32mIn[12], line 1\u001b[0m\n\u001b[0;32m----> 1\u001b[0m first_key \u001b[38;5;241m=\u001b[39m \u001b[38;5;28miter\u001b[39m(\u001b[38;5;28mnext\u001b[39m(\u001b[38;5;28;43mself\u001b[39;49m\u001b[38;5;241m.\u001b[39m_stored_mu))\n\u001b[1;32m      2\u001b[0m \u001b[38;5;28;01mfor\u001b[39;00m i, name \u001b[38;5;129;01min\u001b[39;00m \u001b[38;5;28menumerate\u001b[39m(\u001b[38;5;28mself\u001b[39m\u001b[38;5;241m.\u001b[39mspecies):\n\u001b[1;32m      3\u001b[0m     mu_stoich \u001b[38;5;241m=\u001b[39m \u001b[38;5;28mself\u001b[39m\u001b[38;5;241m.\u001b[39mspecies[name][\u001b[38;5;124m\"\u001b[39m\u001b[38;5;124mmu_stoich\u001b[39m\u001b[38;5;124m\"\u001b[39m]\n",
      "\u001b[0;31mNameError\u001b[0m: name 'self' is not defined"
     ]
    }
   ],
   "source": [
    "\n",
    "\n",
    "first_key = iter(next(self._stored_mu))\n",
    "for i, name in enumerate(self.species):\n",
    "    mu_stoich = self.species[name][\"mu_stoich\"]\n",
    "    self._mu_matrix[i,:] = self.species[name][\"dG0\"]\n",
    "    for j in range(len(self._stored_mu[first_key])):\n",
    "        for mu in self._stored_mu:\n",
    "            self._mu_matrix[i,j] += self._stored_mu[mu][j]*mu_stoich[mu]\n"
   ]
  },
  {
   "cell_type": "code",
   "execution_count": null,
   "id": "a9692040-0211-4629-a34d-ca071390fdac",
   "metadata": {},
   "outputs": [],
   "source": []
  },
  {
   "cell_type": "code",
   "execution_count": null,
   "id": "035149ea-0f76-46e0-9dcf-c316c7d30a29",
   "metadata": {},
   "outputs": [],
   "source": []
  },
  {
   "cell_type": "code",
   "execution_count": 13,
   "id": "eb3f4668-21b6-44e6-9dca-5c30501b80d1",
   "metadata": {},
   "outputs": [
    {
     "data": {
      "text/html": [
       "<div>\n",
       "<style scoped>\n",
       "    .dataframe tbody tr th:only-of-type {\n",
       "        vertical-align: middle;\n",
       "    }\n",
       "\n",
       "    .dataframe tbody tr th {\n",
       "        vertical-align: top;\n",
       "    }\n",
       "\n",
       "    .dataframe thead th {\n",
       "        text-align: right;\n",
       "    }\n",
       "</style>\n",
       "<table border=\"1\" class=\"dataframe\">\n",
       "  <thead>\n",
       "    <tr style=\"text-align: right;\">\n",
       "      <th></th>\n",
       "      <th>T</th>\n",
       "      <th>X</th>\n",
       "      <th>s1</th>\n",
       "      <th>s2</th>\n",
       "      <th>fx_obs</th>\n",
       "      <th>dG_obs</th>\n",
       "    </tr>\n",
       "  </thead>\n",
       "  <tbody>\n",
       "    <tr>\n",
       "      <th>0</th>\n",
       "      <td>1.0</td>\n",
       "      <td>0.000</td>\n",
       "      <td>0.541653</td>\n",
       "      <td>0.458347</td>\n",
       "      <td>0.541653</td>\n",
       "      <td>-0.167</td>\n",
       "    </tr>\n",
       "    <tr>\n",
       "      <th>1</th>\n",
       "      <td>1.0</td>\n",
       "      <td>3.333</td>\n",
       "      <td>0.001503</td>\n",
       "      <td>0.998497</td>\n",
       "      <td>0.001503</td>\n",
       "      <td>6.499</td>\n",
       "    </tr>\n",
       "    <tr>\n",
       "      <th>2</th>\n",
       "      <td>1.0</td>\n",
       "      <td>1.000</td>\n",
       "      <td>0.137881</td>\n",
       "      <td>0.862119</td>\n",
       "      <td>0.137881</td>\n",
       "      <td>1.833</td>\n",
       "    </tr>\n",
       "  </tbody>\n",
       "</table>\n",
       "</div>"
      ],
      "text/plain": [
       "     T      X        s1        s2    fx_obs  dG_obs\n",
       "0  1.0  0.000  0.541653  0.458347  0.541653  -0.167\n",
       "1  1.0  3.333  0.001503  0.998497  0.001503   6.499\n",
       "2  1.0  1.000  0.137881  0.862119  0.137881   1.833"
      ]
     },
     "execution_count": 13,
     "metadata": {},
     "output_type": "execute_result"
    }
   ],
   "source": [
    "ens.get_obs(mut_energy={},mu_dict=mu_dict,T=1)"
   ]
  },
  {
   "cell_type": "code",
   "execution_count": 14,
   "id": "60de088f-6216-4033-bbf6-711d817f8d9f",
   "metadata": {},
   "outputs": [
    {
     "data": {
      "text/plain": [
       "array([0.54165324, 0.99849732])"
      ]
     },
     "execution_count": 14,
     "metadata": {},
     "output_type": "execute_result"
    }
   ],
   "source": [
    "eee.evolve.fitness._fitness_function(ens=ens,\n",
    "                                     mut_energy={},\n",
    "                                     mu_dict=mu_dict,\n",
    "                                     fitness_fcns=[ff_on,ff_off],\n",
    "                                     select_on=\"fx_obs\",\n",
    "                                     fitness_kwargs={},\n",
    "                                     T=1)"
   ]
  },
  {
   "cell_type": "code",
   "execution_count": 15,
   "id": "aaa7c173-66b7-4cf0-990f-1d65deefd9e2",
   "metadata": {},
   "outputs": [
    {
     "name": "stdout",
     "output_type": "stream",
     "text": [
      "0.5416532393676118 0.9984973180670926\n"
     ]
    },
    {
     "data": {
      "text/html": [
       "<div>\n",
       "<style scoped>\n",
       "    .dataframe tbody tr th:only-of-type {\n",
       "        vertical-align: middle;\n",
       "    }\n",
       "\n",
       "    .dataframe tbody tr th {\n",
       "        vertical-align: top;\n",
       "    }\n",
       "\n",
       "    .dataframe thead th {\n",
       "        text-align: right;\n",
       "    }\n",
       "</style>\n",
       "<table border=\"1\" class=\"dataframe\">\n",
       "  <thead>\n",
       "    <tr style=\"text-align: right;\">\n",
       "      <th></th>\n",
       "      <th>T</th>\n",
       "      <th>X</th>\n",
       "      <th>s1</th>\n",
       "      <th>s2</th>\n",
       "      <th>fx_obs</th>\n",
       "      <th>dG_obs</th>\n",
       "    </tr>\n",
       "  </thead>\n",
       "  <tbody>\n",
       "    <tr>\n",
       "      <th>0</th>\n",
       "      <td>1.0</td>\n",
       "      <td>0.000</td>\n",
       "      <td>0.541653</td>\n",
       "      <td>0.458347</td>\n",
       "      <td>0.541653</td>\n",
       "      <td>-0.167</td>\n",
       "    </tr>\n",
       "    <tr>\n",
       "      <th>1</th>\n",
       "      <td>1.0</td>\n",
       "      <td>3.333</td>\n",
       "      <td>0.001503</td>\n",
       "      <td>0.998497</td>\n",
       "      <td>0.001503</td>\n",
       "      <td>6.499</td>\n",
       "    </tr>\n",
       "    <tr>\n",
       "      <th>2</th>\n",
       "      <td>1.0</td>\n",
       "      <td>1.000</td>\n",
       "      <td>0.137881</td>\n",
       "      <td>0.862119</td>\n",
       "      <td>0.137881</td>\n",
       "      <td>1.833</td>\n",
       "    </tr>\n",
       "  </tbody>\n",
       "</table>\n",
       "</div>"
      ],
      "text/plain": [
       "     T      X        s1        s2    fx_obs  dG_obs\n",
       "0  1.0  0.000  0.541653  0.458347  0.541653  -0.167\n",
       "1  1.0  3.333  0.001503  0.998497  0.001503   6.499\n",
       "2  1.0  1.000  0.137881  0.862119  0.137881   1.833"
      ]
     },
     "execution_count": 15,
     "metadata": {},
     "output_type": "execute_result"
    }
   ],
   "source": [
    "\n",
    "df = ens.get_obs(mu_dict=mu_dict,\n",
    "                 T=1)\n",
    "v = np.array(df[\"fx_obs\"])\n",
    "print(ff_on(v[0]),ff_off(v[1]))\n",
    "df"
   ]
  },
  {
   "cell_type": "code",
   "execution_count": 16,
   "id": "f369be1c-d609-40a0-b85c-40a2bbd95480",
   "metadata": {},
   "outputs": [
    {
     "name": "stdout",
     "output_type": "stream",
     "text": [
      "0.9943867704232219 0.8159281306107955\n"
     ]
    },
    {
     "data": {
      "text/html": [
       "<div>\n",
       "<style scoped>\n",
       "    .dataframe tbody tr th:only-of-type {\n",
       "        vertical-align: middle;\n",
       "    }\n",
       "\n",
       "    .dataframe tbody tr th {\n",
       "        vertical-align: top;\n",
       "    }\n",
       "\n",
       "    .dataframe thead th {\n",
       "        text-align: right;\n",
       "    }\n",
       "</style>\n",
       "<table border=\"1\" class=\"dataframe\">\n",
       "  <thead>\n",
       "    <tr style=\"text-align: right;\">\n",
       "      <th></th>\n",
       "      <th>T</th>\n",
       "      <th>X</th>\n",
       "      <th>s1</th>\n",
       "      <th>s2</th>\n",
       "      <th>fx_obs</th>\n",
       "      <th>dG_obs</th>\n",
       "    </tr>\n",
       "  </thead>\n",
       "  <tbody>\n",
       "    <tr>\n",
       "      <th>0</th>\n",
       "      <td>1.0</td>\n",
       "      <td>0.000</td>\n",
       "      <td>0.994387</td>\n",
       "      <td>0.005613</td>\n",
       "      <td>0.994387</td>\n",
       "      <td>-5.177</td>\n",
       "    </tr>\n",
       "    <tr>\n",
       "      <th>1</th>\n",
       "      <td>1.0</td>\n",
       "      <td>3.333</td>\n",
       "      <td>0.184072</td>\n",
       "      <td>0.815928</td>\n",
       "      <td>0.184072</td>\n",
       "      <td>1.489</td>\n",
       "    </tr>\n",
       "    <tr>\n",
       "      <th>2</th>\n",
       "      <td>1.0</td>\n",
       "      <td>1.000</td>\n",
       "      <td>0.959960</td>\n",
       "      <td>0.040040</td>\n",
       "      <td>0.959960</td>\n",
       "      <td>-3.177</td>\n",
       "    </tr>\n",
       "  </tbody>\n",
       "</table>\n",
       "</div>"
      ],
      "text/plain": [
       "     T      X        s1        s2    fx_obs  dG_obs\n",
       "0  1.0  0.000  0.994387  0.005613  0.994387  -5.177\n",
       "1  1.0  3.333  0.184072  0.815928  0.184072   1.489\n",
       "2  1.0  1.000  0.959960  0.040040  0.959960  -3.177"
      ]
     },
     "execution_count": 16,
     "metadata": {},
     "output_type": "execute_result"
    }
   ],
   "source": [
    "df = ens.get_obs(mu_dict=mu_dict,\n",
    "                 mut_energy={\"s1\":-1.677,\"s2\":3.333},\n",
    "                 T=1)\n",
    "v = np.array(df[\"fx_obs\"])\n",
    "print(ff_on(v[0]),ff_off(v[1]))\n",
    "df\n"
   ]
  },
  {
   "cell_type": "code",
   "execution_count": 17,
   "id": "7f4c3f06-027c-4984-94c8-b5c2b7bb4a3f",
   "metadata": {},
   "outputs": [
    {
     "name": "stdout",
     "output_type": "stream",
     "text": [
      "5.775822590594909e-08 0.999999999926446\n"
     ]
    },
    {
     "data": {
      "text/html": [
       "<div>\n",
       "<style scoped>\n",
       "    .dataframe tbody tr th:only-of-type {\n",
       "        vertical-align: middle;\n",
       "    }\n",
       "\n",
       "    .dataframe tbody tr th {\n",
       "        vertical-align: top;\n",
       "    }\n",
       "\n",
       "    .dataframe thead th {\n",
       "        text-align: right;\n",
       "    }\n",
       "</style>\n",
       "<table border=\"1\" class=\"dataframe\">\n",
       "  <thead>\n",
       "    <tr style=\"text-align: right;\">\n",
       "      <th></th>\n",
       "      <th>T</th>\n",
       "      <th>X</th>\n",
       "      <th>s1</th>\n",
       "      <th>s2</th>\n",
       "      <th>fx_obs</th>\n",
       "      <th>dG_obs</th>\n",
       "    </tr>\n",
       "  </thead>\n",
       "  <tbody>\n",
       "    <tr>\n",
       "      <th>0</th>\n",
       "      <td>1.0</td>\n",
       "      <td>0.000</td>\n",
       "      <td>5.775823e-08</td>\n",
       "      <td>1.0</td>\n",
       "      <td>5.775823e-08</td>\n",
       "      <td>16.667</td>\n",
       "    </tr>\n",
       "    <tr>\n",
       "      <th>1</th>\n",
       "      <td>1.0</td>\n",
       "      <td>3.333</td>\n",
       "      <td>7.355409e-11</td>\n",
       "      <td>1.0</td>\n",
       "      <td>7.355409e-11</td>\n",
       "      <td>23.333</td>\n",
       "    </tr>\n",
       "    <tr>\n",
       "      <th>2</th>\n",
       "      <td>1.0</td>\n",
       "      <td>1.000</td>\n",
       "      <td>7.816726e-09</td>\n",
       "      <td>1.0</td>\n",
       "      <td>7.816726e-09</td>\n",
       "      <td>18.667</td>\n",
       "    </tr>\n",
       "  </tbody>\n",
       "</table>\n",
       "</div>"
      ],
      "text/plain": [
       "     T      X            s1   s2        fx_obs  dG_obs\n",
       "0  1.0  0.000  5.775823e-08  1.0  5.775823e-08  16.667\n",
       "1  1.0  3.333  7.355409e-11  1.0  7.355409e-11  23.333\n",
       "2  1.0  1.000  7.816726e-09  1.0  7.816726e-09  18.667"
      ]
     },
     "execution_count": 17,
     "metadata": {},
     "output_type": "execute_result"
    }
   ],
   "source": [
    "df = ens.get_obs(mu_dict=mu_dict,\n",
    "                 mut_energy={\"s1\":0.167,\"s2\":-16.667},\n",
    "                 T=1)\n",
    "v = np.array(df[\"fx_obs\"])\n",
    "print(ff_on(v[0]),ff_off(v[1]))\n",
    "df\n"
   ]
  },
  {
   "cell_type": "code",
   "execution_count": 18,
   "id": "a9a430ab-359d-49c9-ba5b-dd0bf450a18b",
   "metadata": {},
   "outputs": [
    {
     "name": "stdout",
     "output_type": "stream",
     "text": [
      "0.07457161348016993\n",
      "0.7812798793868584\n",
      "4.514802407097093e-16\n"
     ]
    }
   ],
   "source": [
    "print(fc.fitness({}))\n",
    "print(fc.fitness({\"s1\":-0.167,\"s2\":3.333}))\n",
    "print(fc.fitness({\"s1\":0.167,\"s2\":-16.667}))"
   ]
  },
  {
   "cell_type": "code",
   "execution_count": 19,
   "id": "eff73d57-c882-4cba-a2e4-08baf00e5a85",
   "metadata": {},
   "outputs": [
    {
     "data": {
      "application/vnd.jupyter.widget-view+json": {
       "model_id": "ca76576ab45e41b793aeaa0bd561e48b",
       "version_major": 2,
       "version_minor": 0
      },
      "text/plain": [
       "  0%|          | 0/999 [00:00<?, ?it/s]"
      ]
     },
     "metadata": {},
     "output_type": "display_data"
    },
    {
     "name": "stdout",
     "output_type": "stream",
     "text": [
      "Unexpected exception formatting exception. Falling back to standard exception\n"
     ]
    },
    {
     "name": "stderr",
     "output_type": "stream",
     "text": [
      "Traceback (most recent call last):\n",
      "  File \"/Users/harmsm/miniconda3/lib/python3.9/site-packages/IPython/core/interactiveshell.py\", line 3433, in run_code\n",
      "    exec(code_obj, self.user_global_ns, self.user_ns)\n",
      "  File \"/var/folders/p_/hcs03cdj48nbsvw72d92tr040000gn/T/ipykernel_65533/2645006398.py\", line 1, in <module>\n",
      "    gc, generations = wright_fisher(gc=gc,\n",
      "  File \"/Users/harmsm/work/programming/git-clones/eee/eee/evolve/wright_fisher.py\", line 184, in wright_fisher\n",
      "    new_index = gc.mutate(index=population[j])\n",
      "  File \"/Users/harmsm/work/programming/git-clones/eee/eee/evolve/genotype.py\", line 296, in mutate\n",
      "  File \"/Users/harmsm/work/programming/git-clones/eee/eee/evolve/fitness.py\", line 162, in fitness\n",
      "    def fitness(self,mut_energy):\n",
      "  File \"/Users/harmsm/work/programming/git-clones/eee/eee/evolve/fitness.py\", line 44, in _fitness_function\n",
      "    T=T)\n",
      "  File \"/Users/harmsm/work/programming/git-clones/eee/eee/ensemble.py\", line 370, in get_obs\n",
      "ValueError: operands could not be broadcast together with shapes (3,) (0,) \n",
      "\n",
      "During handling of the above exception, another exception occurred:\n",
      "\n",
      "Traceback (most recent call last):\n",
      "  File \"/Users/harmsm/miniconda3/lib/python3.9/site-packages/IPython/core/interactiveshell.py\", line 2052, in showtraceback\n",
      "    stb = self.InteractiveTB.structured_traceback(\n",
      "  File \"/Users/harmsm/miniconda3/lib/python3.9/site-packages/IPython/core/ultratb.py\", line 1118, in structured_traceback\n",
      "    return FormattedTB.structured_traceback(\n",
      "  File \"/Users/harmsm/miniconda3/lib/python3.9/site-packages/IPython/core/ultratb.py\", line 1012, in structured_traceback\n",
      "    return VerboseTB.structured_traceback(\n",
      "  File \"/Users/harmsm/miniconda3/lib/python3.9/site-packages/IPython/core/ultratb.py\", line 865, in structured_traceback\n",
      "    formatted_exception = self.format_exception_as_a_whole(etype, evalue, etb, number_of_lines_of_context,\n",
      "  File \"/Users/harmsm/miniconda3/lib/python3.9/site-packages/IPython/core/ultratb.py\", line 818, in format_exception_as_a_whole\n",
      "    frames.append(self.format_record(r))\n",
      "  File \"/Users/harmsm/miniconda3/lib/python3.9/site-packages/IPython/core/ultratb.py\", line 736, in format_record\n",
      "    result += ''.join(_format_traceback_lines(frame_info.lines, Colors, self.has_colors, lvals))\n",
      "  File \"/Users/harmsm/miniconda3/lib/python3.9/site-packages/stack_data/utils.py\", line 144, in cached_property_wrapper\n",
      "    value = obj.__dict__[self.func.__name__] = self.func(obj)\n",
      "  File \"/Users/harmsm/miniconda3/lib/python3.9/site-packages/stack_data/core.py\", line 734, in lines\n",
      "    pieces = self.included_pieces\n",
      "  File \"/Users/harmsm/miniconda3/lib/python3.9/site-packages/stack_data/utils.py\", line 144, in cached_property_wrapper\n",
      "    value = obj.__dict__[self.func.__name__] = self.func(obj)\n",
      "  File \"/Users/harmsm/miniconda3/lib/python3.9/site-packages/stack_data/core.py\", line 681, in included_pieces\n",
      "    pos = scope_pieces.index(self.executing_piece)\n",
      "  File \"/Users/harmsm/miniconda3/lib/python3.9/site-packages/stack_data/utils.py\", line 144, in cached_property_wrapper\n",
      "    value = obj.__dict__[self.func.__name__] = self.func(obj)\n",
      "  File \"/Users/harmsm/miniconda3/lib/python3.9/site-packages/stack_data/core.py\", line 660, in executing_piece\n",
      "    return only(\n",
      "  File \"/Users/harmsm/miniconda3/lib/python3.9/site-packages/executing/executing.py\", line 190, in only\n",
      "    raise NotOneValueFound('Expected one value, found 0')\n",
      "executing.executing.NotOneValueFound: Expected one value, found 0\n"
     ]
    }
   ],
   "source": [
    "gc, generations = wright_fisher(gc=gc,\n",
    "                                mutation_rate=0.001,\n",
    "                                population=10000,\n",
    "                                num_generations=1000,)"
   ]
  },
  {
   "cell_type": "code",
   "execution_count": 20,
   "id": "d2109160-bab4-49ba-8197-ce481bea6351",
   "metadata": {},
   "outputs": [
    {
     "ename": "NameError",
     "evalue": "name 'generations' is not defined",
     "output_type": "error",
     "traceback": [
      "\u001b[0;31m---------------------------------------------------------------------------\u001b[0m",
      "\u001b[0;31mNameError\u001b[0m                                 Traceback (most recent call last)",
      "Cell \u001b[0;32mIn[20], line 2\u001b[0m\n\u001b[1;32m      1\u001b[0m genotypes \u001b[38;5;241m=\u001b[39m {}\n\u001b[0;32m----> 2\u001b[0m \u001b[38;5;28;01mfor\u001b[39;00m gen \u001b[38;5;129;01min\u001b[39;00m \u001b[43mgenerations\u001b[49m:\n\u001b[1;32m      3\u001b[0m     \u001b[38;5;28;01mfor\u001b[39;00m g \u001b[38;5;129;01min\u001b[39;00m gen:\n\u001b[1;32m      4\u001b[0m         mut_genotype \u001b[38;5;241m=\u001b[39m \u001b[38;5;124m\"\u001b[39m\u001b[38;5;124m\"\u001b[39m\u001b[38;5;241m.\u001b[39mjoin(gc\u001b[38;5;241m.\u001b[39mgenotypes[g]\u001b[38;5;241m.\u001b[39mmutations)\n",
      "\u001b[0;31mNameError\u001b[0m: name 'generations' is not defined"
     ]
    }
   ],
   "source": [
    "\n",
    "genotypes = {}\n",
    "for gen in generations:\n",
    "    for g in gen:\n",
    "        mut_genotype = \"\".join(gc.genotypes[g].mutations)\n",
    "        if mut_genotype not in genotypes:\n",
    "            genotypes[mut_genotype] = 0\n",
    "        \n",
    "        genotypes[mut_genotype] += gen[g]\n",
    "        \n",
    "assert genotypes[\"A1V\"] > genotypes[\"A1P\"]\n",
    "print(genotypes)\n",
    "        "
   ]
  },
  {
   "cell_type": "code",
   "execution_count": 21,
   "id": "bd156870-8051-4302-bf8b-195aba0e4446",
   "metadata": {},
   "outputs": [
    {
     "data": {
      "text/plain": [
       "9821432"
      ]
     },
     "execution_count": 21,
     "metadata": {},
     "output_type": "execute_result"
    }
   ],
   "source": [
    "9821432"
   ]
  },
  {
   "cell_type": "code",
   "execution_count": 22,
   "id": "06f04870-27db-4e42-8546-d00ef26f9277",
   "metadata": {},
   "outputs": [
    {
     "name": "stdout",
     "output_type": "stream",
     "text": [
      "0.84213\n",
      "0.15733\n",
      "0.00054\n"
     ]
    }
   ],
   "source": [
    "print(84213/100000)\n",
    "print(15733/100000)\n",
    "print(54/100000)"
   ]
  },
  {
   "cell_type": "code",
   "execution_count": 23,
   "id": "8ee6feff-ddb6-43bd-b199-6eebc384533c",
   "metadata": {},
   "outputs": [
    {
     "data": {
      "text/plain": [
       "0.0031964"
      ]
     },
     "execution_count": 23,
     "metadata": {},
     "output_type": "execute_result"
    }
   ],
   "source": [
    "31964/10000000"
   ]
  },
  {
   "cell_type": "code",
   "execution_count": 24,
   "id": "b85d5e09-3c19-4647-b901-b50a00ab8aa7",
   "metadata": {},
   "outputs": [],
   "source": [
    "\n",
    "import numpy as np\n",
    "\n",
    "\n",
    "\n"
   ]
  },
  {
   "cell_type": "code",
   "execution_count": 25,
   "id": "65d2b0e0-84fe-495f-8f95-ca3a9b288a02",
   "metadata": {},
   "outputs": [
    {
     "data": {
      "text/plain": [
       "array([[ 1,  2,  3],\n",
       "       [ 8, 10, 12]])"
      ]
     },
     "execution_count": 25,
     "metadata": {},
     "output_type": "execute_result"
    }
   ],
   "source": [
    "# Four condition for two ligands\n",
    "conditions = np.array([[1,2]])\n",
    "\n",
    "# Stoich for three species and two ligands\n",
    "stoich = np.array([[1,2,3],\n",
    "                   [4,5,6]])\n",
    "\n",
    "conditions.T*stoich\n"
   ]
  },
  {
   "cell_type": "code",
   "execution_count": 26,
   "id": "2ef05a5e-0244-427b-8279-9e1ecc5dfcdc",
   "metadata": {},
   "outputs": [],
   "source": [
    "dG0 = np.array([0,0,0])\n",
    "\n",
    "stoich = np.array([[1,0,0],\n",
    "                   [0,1,0]])\n",
    "\n",
    "\n",
    "dGmut = np.array([0,0,0])\n",
    "\n"
   ]
  },
  {
   "cell_type": "code",
   "execution_count": null,
   "id": "1d20d6ef-4f80-441d-939c-cb207e1c9917",
   "metadata": {},
   "outputs": [],
   "source": []
  },
  {
   "cell_type": "code",
   "execution_count": null,
   "id": "1d8d5d22-ff57-4f48-8e18-a15eb97264e6",
   "metadata": {},
   "outputs": [],
   "source": []
  },
  {
   "cell_type": "code",
   "execution_count": null,
   "id": "50953aff-42f9-4b2f-aeb2-0a970c32f3a5",
   "metadata": {},
   "outputs": [],
   "source": []
  }
 ],
 "metadata": {
  "kernelspec": {
   "display_name": "Python 3 (ipykernel)",
   "language": "python",
   "name": "python3"
  },
  "language_info": {
   "codemirror_mode": {
    "name": "ipython",
    "version": 3
   },
   "file_extension": ".py",
   "mimetype": "text/x-python",
   "name": "python",
   "nbconvert_exporter": "python",
   "pygments_lexer": "ipython3",
   "version": "3.9.12"
  }
 },
 "nbformat": 4,
 "nbformat_minor": 5
}
