{
 "cells": [
  {
   "cell_type": "code",
   "execution_count": 1,
   "id": "17955206-8781-4270-a8bc-4af464740986",
   "metadata": {},
   "outputs": [],
   "source": [
    "import eee\n",
    "\n",
    "import pandas as pd\n",
    "import numpy as np\n",
    "\n",
    "from eee.ensemble import Ensemble\n",
    "from eee.evolve.fitness import FitnessContainer\n",
    "from eee.evolve.fitness import ff_on\n",
    "from eee.evolve.fitness import ff_off\n",
    "from eee.evolve.wright_fisher import wright_fisher\n",
    "\n",
    "\n",
    "# Basic ensemble\n",
    "ens = Ensemble(R=1)\n",
    "ens.add_species(name=\"s1\",\n",
    "                dG0=0,\n",
    "                observable=True)\n",
    "ens.add_species(name=\"s2\",\n",
    "                dG0=0.167,\n",
    "                observable=False,\n",
    "                mu_stoich={\"X\":2})\n",
    "\n",
    "mu_dict = {\"X\":[0,3.333,1]}\n",
    "\n",
    "ddg_df = pd.DataFrame({\"site\":[1,1],\n",
    "                       \"mut\":[\"A1V\",\"A1P\"],\n",
    "                       \"s1\":[-1.677,0.167],\n",
    "                       \"s2\":[3.333,-5000]})\n",
    "\n",
    "fc = FitnessContainer(ens,\n",
    "                      mu_dict,\n",
    "                      [ff_on,ff_off,ff_on],\n",
    "                      select_on=\"fx_obs\",\n",
    "                      fitness_kwargs={},\n",
    "                      T=1)\n",
    "\n",
    "gc = eee.evolve.genotype.GenotypeContainer(fc=fc,\n",
    "                                           ddg_df=ddg_df)\n"
   ]
  },
  {
   "cell_type": "code",
   "execution_count": 7,
   "id": "90a5bc6e-6495-4467-9073-16e4c0f22944",
   "metadata": {},
   "outputs": [
    {
     "data": {
      "text/plain": [
       "'a'"
      ]
     },
     "execution_count": 7,
     "metadata": {},
     "output_type": "execute_result"
    }
   ],
   "source": [
    "X = {\"a\":1,\"b\":2}\n",
    "\n",
    "next(iter(X))"
   ]
  },
  {
   "cell_type": "code",
   "execution_count": 3,
   "id": "aaeedb51-9076-42b3-95c4-f546035c8e2e",
   "metadata": {},
   "outputs": [],
   "source": [
    "ens._species[\"s1\"][\"mu_stoich\"] = {\"X\":0}\n",
    "\n",
    "z_matrix = np.zeros((len(ens.species),len(mu_dict[ens.mu_list[0]])),dtype=float)\n",
    "obs_mask = np.zeros(len(ens.species),dtype=bool)\n",
    "\n",
    "first_key = ens.mu_list[0]\n",
    "for i, name in enumerate(ens._species):\n",
    "    z_matrix[i,:] = ens._species[name][\"dG0\"]\n",
    "    \n",
    "    mu_stoich = ens._species[name][\"mu_stoich\"]\n",
    "    for j in range(len(mu_dict[ens.mu_list[0]])):\n",
    "        for mu in ens.mu_list:\n",
    "            z_matrix[i,j] += mu_dict[mu][j]*mu_stoich[mu]\n",
    "\n",
    "    obs_mask[i] = ens._species[name][\"observable\"]\n",
    "\n",
    "not_obs_mask = np.logical_not(obs_mask)\n",
    "\n",
    "#max_allowed = np.log(np.finfo('d').max)*0.9\n"
   ]
  },
  {
   "cell_type": "code",
   "execution_count": 4,
   "id": "74f80f47-dec0-4d80-bde6-1840934e25fa",
   "metadata": {},
   "outputs": [
    {
     "data": {
      "text/plain": [
       "array([[0.49441076, 0.5       , 0.49608762]])"
      ]
     },
     "execution_count": 4,
     "metadata": {},
     "output_type": "execute_result"
    }
   ],
   "source": [
    "\n",
    "beta = 1/(ens._R*298.15)\n",
    "\n",
    "mut_energy = np.array([1,2])\n",
    "\n",
    "weights = (z_matrix + mut_energy[:,None])*beta\n",
    "shift = max_allowed - np.max(weights,axis=1)\n",
    "weights = weights + shift[:,None]\n",
    "weights = np.exp(weights)\n",
    "\n",
    "obs = weights[obs_mask,:]\n",
    "not_obs = weights[not_obs_mask,:]\n",
    "\n",
    "not_obs/(not_obs + obs)\n",
    "\n"
   ]
  },
  {
   "cell_type": "code",
   "execution_count": null,
   "id": "a23b8887-195a-4823-9c0a-00e275637034",
   "metadata": {},
   "outputs": [],
   "source": [
    "\n",
    "\n",
    "first_key = iter(next(self._stored_mu))\n",
    "for i, name in enumerate(self.species):\n",
    "    mu_stoich = self.species[name][\"mu_stoich\"]\n",
    "    self._mu_matrix[i,:] = self.species[name][\"dG0\"]\n",
    "    for j in range(len(self._stored_mu[first_key])):\n",
    "        for mu in self._stored_mu:\n",
    "            self._mu_matrix[i,j] += self._stored_mu[mu][j]*mu_stoich[mu]\n"
   ]
  },
  {
   "cell_type": "code",
   "execution_count": null,
   "id": "a9692040-0211-4629-a34d-ca071390fdac",
   "metadata": {},
   "outputs": [],
   "source": []
  },
  {
   "cell_type": "code",
   "execution_count": null,
   "id": "035149ea-0f76-46e0-9dcf-c316c7d30a29",
   "metadata": {},
   "outputs": [],
   "source": []
  },
  {
   "cell_type": "code",
   "execution_count": null,
   "id": "eb3f4668-21b6-44e6-9dca-5c30501b80d1",
   "metadata": {},
   "outputs": [],
   "source": [
    "ens.get_obs(mut_energy={},mu_dict=mu_dict,T=1)"
   ]
  },
  {
   "cell_type": "code",
   "execution_count": null,
   "id": "60de088f-6216-4033-bbf6-711d817f8d9f",
   "metadata": {},
   "outputs": [],
   "source": [
    "eee.evolve.fitness._fitness_function(ens=ens,\n",
    "                                     mut_energy={},\n",
    "                                     mu_dict=mu_dict,\n",
    "                                     fitness_fcns=[ff_on,ff_off],\n",
    "                                     select_on=\"fx_obs\",\n",
    "                                     fitness_kwargs={},\n",
    "                                     T=1)"
   ]
  },
  {
   "cell_type": "code",
   "execution_count": null,
   "id": "aaa7c173-66b7-4cf0-990f-1d65deefd9e2",
   "metadata": {},
   "outputs": [],
   "source": [
    "\n",
    "df = ens.get_obs(mu_dict=mu_dict,\n",
    "                 T=1)\n",
    "v = np.array(df[\"fx_obs\"])\n",
    "print(ff_on(v[0]),ff_off(v[1]))\n",
    "df"
   ]
  },
  {
   "cell_type": "code",
   "execution_count": null,
   "id": "f369be1c-d609-40a0-b85c-40a2bbd95480",
   "metadata": {},
   "outputs": [],
   "source": [
    "df = ens.get_obs(mu_dict=mu_dict,\n",
    "                 mut_energy={\"s1\":-1.677,\"s2\":3.333},\n",
    "                 T=1)\n",
    "v = np.array(df[\"fx_obs\"])\n",
    "print(ff_on(v[0]),ff_off(v[1]))\n",
    "df\n"
   ]
  },
  {
   "cell_type": "code",
   "execution_count": null,
   "id": "7f4c3f06-027c-4984-94c8-b5c2b7bb4a3f",
   "metadata": {},
   "outputs": [],
   "source": [
    "df = ens.get_obs(mu_dict=mu_dict,\n",
    "                 mut_energy={\"s1\":0.167,\"s2\":-16.667},\n",
    "                 T=1)\n",
    "v = np.array(df[\"fx_obs\"])\n",
    "print(ff_on(v[0]),ff_off(v[1]))\n",
    "df\n"
   ]
  },
  {
   "cell_type": "code",
   "execution_count": null,
   "id": "a9a430ab-359d-49c9-ba5b-dd0bf450a18b",
   "metadata": {},
   "outputs": [],
   "source": [
    "print(fc.fitness({}))\n",
    "print(fc.fitness({\"s1\":-0.167,\"s2\":3.333}))\n",
    "print(fc.fitness({\"s1\":0.167,\"s2\":-16.667}))"
   ]
  },
  {
   "cell_type": "code",
   "execution_count": null,
   "id": "eff73d57-c882-4cba-a2e4-08baf00e5a85",
   "metadata": {},
   "outputs": [],
   "source": [
    "gc, generations = wright_fisher(gc=gc,\n",
    "                                mutation_rate=0.001,\n",
    "                                population=10000,\n",
    "                                num_generations=1000,)"
   ]
  },
  {
   "cell_type": "code",
   "execution_count": null,
   "id": "d2109160-bab4-49ba-8197-ce481bea6351",
   "metadata": {},
   "outputs": [],
   "source": [
    "\n",
    "genotypes = {}\n",
    "for gen in generations:\n",
    "    for g in gen:\n",
    "        mut_genotype = \"\".join(gc.genotypes[g].mutations)\n",
    "        if mut_genotype not in genotypes:\n",
    "            genotypes[mut_genotype] = 0\n",
    "        \n",
    "        genotypes[mut_genotype] += gen[g]\n",
    "        \n",
    "assert genotypes[\"A1V\"] > genotypes[\"A1P\"]\n",
    "print(genotypes)\n",
    "        "
   ]
  },
  {
   "cell_type": "code",
   "execution_count": null,
   "id": "bd156870-8051-4302-bf8b-195aba0e4446",
   "metadata": {},
   "outputs": [],
   "source": [
    "9821432"
   ]
  },
  {
   "cell_type": "code",
   "execution_count": null,
   "id": "06f04870-27db-4e42-8546-d00ef26f9277",
   "metadata": {},
   "outputs": [],
   "source": [
    "print(84213/100000)\n",
    "print(15733/100000)\n",
    "print(54/100000)"
   ]
  },
  {
   "cell_type": "code",
   "execution_count": null,
   "id": "8ee6feff-ddb6-43bd-b199-6eebc384533c",
   "metadata": {},
   "outputs": [],
   "source": [
    "31964/10000000"
   ]
  },
  {
   "cell_type": "code",
   "execution_count": null,
   "id": "b85d5e09-3c19-4647-b901-b50a00ab8aa7",
   "metadata": {},
   "outputs": [],
   "source": [
    "\n",
    "import numpy as np\n",
    "\n",
    "\n",
    "\n"
   ]
  },
  {
   "cell_type": "code",
   "execution_count": null,
   "id": "65d2b0e0-84fe-495f-8f95-ca3a9b288a02",
   "metadata": {},
   "outputs": [],
   "source": [
    "# Four condition for two ligands\n",
    "conditions = np.array([[1,2]])\n",
    "\n",
    "# Stoich for three species and two ligands\n",
    "stoich = np.array([[1,2,3],\n",
    "                   [4,5,6]])\n",
    "\n",
    "conditions.T*stoich\n"
   ]
  },
  {
   "cell_type": "code",
   "execution_count": null,
   "id": "2ef05a5e-0244-427b-8279-9e1ecc5dfcdc",
   "metadata": {},
   "outputs": [],
   "source": [
    "dG0 = np.array([0,0,0])\n",
    "\n",
    "stoich = np.array([[1,0,0],\n",
    "                   [0,1,0]])\n",
    "\n",
    "\n",
    "dGmut = np.array([0,0,0])\n",
    "\n"
   ]
  }
 ],
 "metadata": {
  "kernelspec": {
   "display_name": "Python 3 (ipykernel)",
   "language": "python",
   "name": "python3"
  },
  "language_info": {
   "codemirror_mode": {
    "name": "ipython",
    "version": 3
   },
   "file_extension": ".py",
   "mimetype": "text/x-python",
   "name": "python",
   "nbconvert_exporter": "python",
   "pygments_lexer": "ipython3",
   "version": "3.9.12"
  }
 },
 "nbformat": 4,
 "nbformat_minor": 5
}
