{
 "cells": [
  {
   "cell_type": "code",
   "execution_count": null,
   "id": "39912422-b695-42e9-9725-d61135e205d7",
   "metadata": {},
   "outputs": [],
   "source": [
    "import eee\n",
    "\n",
    "%matplotlib inline\n",
    "from matplotlib import pyplot as plt\n",
    "\n",
    "import numpy as np\n"
   ]
  },
  {
   "cell_type": "markdown",
   "id": "19ccc811-dfa1-4367-b345-62f35ee4e45f",
   "metadata": {},
   "source": [
    "### Specify ensemble\n",
    "\n",
    "This ensemble has three species:\n",
    "\n",
    "hdna + 2IPTG <--> h + 2IPTG <--> l2e\n",
    "\n",
    "+ `hdna` (our observable, with dG0 = 0 kcal/mol)\n",
    "+ `h` (unobserved structure that does not bind to anything; dG0 = 5 kcal/mol)\n",
    "+ `l2e` (unobserved structure that binds to 2 iptg molecules; dG0 = 5 kcal/mol)\n",
    "\n",
    "At highly positive IPTG concentration (low concentration), `hdna` will be highly favored. At highly negative IPTG concentrations (high concentration), `l2e` is favored. "
   ]
  },
  {
   "cell_type": "code",
   "execution_count": null,
   "id": "145f6301-e5b1-49c9-b364-fa6eb9860ca2",
   "metadata": {},
   "outputs": [],
   "source": [
    "ens = eee.Ensemble()\n",
    "ens.add_species(\"hdna\",dG0=0,observable=True)\n",
    "ens.add_species(\"h\",dG0=5)\n",
    "ens.add_species(\"l2e\",dG0=5,observable=False,iptg=2)\n",
    "\n",
    "df = ens.get_obs(ligand_dict={\"iptg\":np.linspace(0,5)})\n",
    "fig, ax = plt.subplots(1,figsize=(6,6))\n",
    "ax.plot(df.iptg,df.fx_obs)\n",
    "ax.set_xlabel(\"ln([iptg]) chemical potential\")\n",
    "ax.set_ylabel(\"fraction hdna\")\n",
    "\n",
    "ax.plot((1,1),(0,1),'--',color='gray')\n",
    "ax.plot((4,4),(0,1),'--',color='gray')\n",
    "ax.set_title(\"increasing iptg disfavors hdna\")\n",
    "None"
   ]
  },
  {
   "cell_type": "markdown",
   "id": "6a28a4fc-775b-44db-b192-39d4eb7058d4",
   "metadata": {},
   "source": [
    "### Calculate ensemble epistasis\n",
    "\n",
    "Additive structural mutations to hdna and l2e lead to epistasis at the level of the observable"
   ]
  },
  {
   "cell_type": "code",
   "execution_count": null,
   "id": "1421a7c7-095d-42a8-9c71-def1bee9d90a",
   "metadata": {},
   "outputs": [],
   "source": [
    "mut1_dict = {\"hdna\":5}\n",
    "mut2_dict = {\"l2e\":-5}\n",
    "mut12_dict = {\"hdna\":5,\"l2e\":-5}\n",
    "ligand_dict={\"iptg\":np.linspace(-5,5)}\n",
    "\n",
    "df = eee.epistasis.get_ensemble_epistasis(ens,\n",
    "                                          mut1_dict=mut1_dict,\n",
    "                                          mut2_dict=mut2_dict,\n",
    "                                          mut12_dict=mut12_dict,\n",
    "                                          ligand_dict=ligand_dict)\n",
    "\n",
    "fig, ax = plt.subplots(1,figsize=(6,6))\n",
    "ax.plot(df.iptg,df.fx_ep_mag)\n",
    "ax.set_xlabel(\"iptg chemical potential\")\n",
    "ax.set_ylabel(\"epistasis in fx_obs\")\n",
    "                            \n"
   ]
  },
  {
   "cell_type": "code",
   "execution_count": null,
   "id": "1ac6508e-7671-4797-a14c-dab38edb188a",
   "metadata": {},
   "outputs": [],
   "source": []
  }
 ],
 "metadata": {
  "kernelspec": {
   "display_name": "Python 3 (ipykernel)",
   "language": "python",
   "name": "python3"
  },
  "language_info": {
   "codemirror_mode": {
    "name": "ipython",
    "version": 3
   },
   "file_extension": ".py",
   "mimetype": "text/x-python",
   "name": "python",
   "nbconvert_exporter": "python",
   "pygments_lexer": "ipython3",
   "version": "3.9.12"
  }
 },
 "nbformat": 4,
 "nbformat_minor": 5
}
