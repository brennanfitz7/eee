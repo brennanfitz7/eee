{
 "cells": [
  {
   "cell_type": "code",
   "execution_count": 110,
   "id": "17955206-8781-4270-a8bc-4af464740986",
   "metadata": {},
   "outputs": [],
   "source": [
    "import eee\n",
    "\n",
    "import pandas as pd\n",
    "import numpy as np\n",
    "\n",
    "from eee.ensemble import Ensemble\n",
    "from eee.evolve.fitness import FitnessContainer\n",
    "from eee.evolve.fitness import ff_on\n",
    "from eee.evolve.fitness import ff_off\n",
    "from eee.evolve.wright_fisher import wright_fisher\n",
    "\n",
    "\n",
    "# Basic ensemble\n",
    "ens = Ensemble(R=1)\n",
    "ens.add_species(name=\"s1\",\n",
    "                dG0=0,\n",
    "                observable=True)\n",
    "ens.add_species(name=\"s2\",\n",
    "                dG0=0.167,\n",
    "                observable=False,\n",
    "                mu_stoich={\"X\":2})\n",
    "\n",
    "mu_dict = {\"X\":[0,3.333]}\n",
    "\n",
    "ddg_df = pd.DataFrame({\"site\":[1,1],\n",
    "                       \"mut\":[\"A1V\",\"A1P\"],\n",
    "                       \"s1\":[-1.677,0.167],\n",
    "                       \"s2\":[3.333,-5000]})\n",
    "\n",
    "fc = FitnessContainer(ens,\n",
    "                      mu_dict,\n",
    "                      [ff_on,ff_off],\n",
    "                      select_on=\"fx_obs\",\n",
    "                      fitness_kwargs={},\n",
    "                      T=1)\n",
    "\n",
    "gc = eee.evolve.genotype.GenotypeContainer(fc=fc,\n",
    "                                           ddg_df=ddg_df)\n"
   ]
  },
  {
   "cell_type": "code",
   "execution_count": 59,
   "id": "eb3f4668-21b6-44e6-9dca-5c30501b80d1",
   "metadata": {},
   "outputs": [
    {
     "data": {
      "text/html": [
       "<div>\n",
       "<style scoped>\n",
       "    .dataframe tbody tr th:only-of-type {\n",
       "        vertical-align: middle;\n",
       "    }\n",
       "\n",
       "    .dataframe tbody tr th {\n",
       "        vertical-align: top;\n",
       "    }\n",
       "\n",
       "    .dataframe thead th {\n",
       "        text-align: right;\n",
       "    }\n",
       "</style>\n",
       "<table border=\"1\" class=\"dataframe\">\n",
       "  <thead>\n",
       "    <tr style=\"text-align: right;\">\n",
       "      <th></th>\n",
       "      <th>T</th>\n",
       "      <th>X</th>\n",
       "      <th>s1</th>\n",
       "      <th>s2</th>\n",
       "      <th>fx_obs</th>\n",
       "      <th>dG_obs</th>\n",
       "    </tr>\n",
       "  </thead>\n",
       "  <tbody>\n",
       "    <tr>\n",
       "      <th>0</th>\n",
       "      <td>1.0</td>\n",
       "      <td>0.000</td>\n",
       "      <td>0.541653</td>\n",
       "      <td>0.458347</td>\n",
       "      <td>0.541653</td>\n",
       "      <td>-0.167</td>\n",
       "    </tr>\n",
       "    <tr>\n",
       "      <th>1</th>\n",
       "      <td>1.0</td>\n",
       "      <td>3.333</td>\n",
       "      <td>0.001503</td>\n",
       "      <td>0.998497</td>\n",
       "      <td>0.001503</td>\n",
       "      <td>6.499</td>\n",
       "    </tr>\n",
       "  </tbody>\n",
       "</table>\n",
       "</div>"
      ],
      "text/plain": [
       "     T      X        s1        s2    fx_obs  dG_obs\n",
       "0  1.0  0.000  0.541653  0.458347  0.541653  -0.167\n",
       "1  1.0  3.333  0.001503  0.998497  0.001503   6.499"
      ]
     },
     "execution_count": 59,
     "metadata": {},
     "output_type": "execute_result"
    }
   ],
   "source": [
    "ens.get_obs(mut_energy={},mu_dict=mu_dict,T=1)"
   ]
  },
  {
   "cell_type": "code",
   "execution_count": 104,
   "id": "60de088f-6216-4033-bbf6-711d817f8d9f",
   "metadata": {},
   "outputs": [
    {
     "data": {
      "text/plain": [
       "array([0.54165324, 0.99849732])"
      ]
     },
     "execution_count": 104,
     "metadata": {},
     "output_type": "execute_result"
    }
   ],
   "source": [
    "eee.evolve.fitness._fitness_function(ens=ens,\n",
    "                                     mut_energy={},\n",
    "                                     mu_dict=mu_dict,\n",
    "                                     fitness_fcns=[ff_on,ff_off],\n",
    "                                     select_on=\"fx_obs\",\n",
    "                                     fitness_kwargs={},\n",
    "                                     T=1)"
   ]
  },
  {
   "cell_type": "code",
   "execution_count": 105,
   "id": "aaa7c173-66b7-4cf0-990f-1d65deefd9e2",
   "metadata": {},
   "outputs": [
    {
     "name": "stdout",
     "output_type": "stream",
     "text": [
      "0.5416532393676118 0.9984973180670926\n"
     ]
    },
    {
     "data": {
      "text/html": [
       "<div>\n",
       "<style scoped>\n",
       "    .dataframe tbody tr th:only-of-type {\n",
       "        vertical-align: middle;\n",
       "    }\n",
       "\n",
       "    .dataframe tbody tr th {\n",
       "        vertical-align: top;\n",
       "    }\n",
       "\n",
       "    .dataframe thead th {\n",
       "        text-align: right;\n",
       "    }\n",
       "</style>\n",
       "<table border=\"1\" class=\"dataframe\">\n",
       "  <thead>\n",
       "    <tr style=\"text-align: right;\">\n",
       "      <th></th>\n",
       "      <th>T</th>\n",
       "      <th>X</th>\n",
       "      <th>s1</th>\n",
       "      <th>s2</th>\n",
       "      <th>fx_obs</th>\n",
       "      <th>dG_obs</th>\n",
       "    </tr>\n",
       "  </thead>\n",
       "  <tbody>\n",
       "    <tr>\n",
       "      <th>0</th>\n",
       "      <td>1.0</td>\n",
       "      <td>0.000</td>\n",
       "      <td>0.541653</td>\n",
       "      <td>0.458347</td>\n",
       "      <td>0.541653</td>\n",
       "      <td>-0.167</td>\n",
       "    </tr>\n",
       "    <tr>\n",
       "      <th>1</th>\n",
       "      <td>1.0</td>\n",
       "      <td>3.333</td>\n",
       "      <td>0.001503</td>\n",
       "      <td>0.998497</td>\n",
       "      <td>0.001503</td>\n",
       "      <td>6.499</td>\n",
       "    </tr>\n",
       "  </tbody>\n",
       "</table>\n",
       "</div>"
      ],
      "text/plain": [
       "     T      X        s1        s2    fx_obs  dG_obs\n",
       "0  1.0  0.000  0.541653  0.458347  0.541653  -0.167\n",
       "1  1.0  3.333  0.001503  0.998497  0.001503   6.499"
      ]
     },
     "execution_count": 105,
     "metadata": {},
     "output_type": "execute_result"
    }
   ],
   "source": [
    "\n",
    "df = ens.get_obs(mu_dict=mu_dict,\n",
    "                 T=1)\n",
    "v = np.array(df[\"fx_obs\"])\n",
    "print(ff_on(v[0]),ff_off(v[1]))\n",
    "df"
   ]
  },
  {
   "cell_type": "code",
   "execution_count": 108,
   "id": "f369be1c-d609-40a0-b85c-40a2bbd95480",
   "metadata": {},
   "outputs": [
    {
     "name": "stdout",
     "output_type": "stream",
     "text": [
      "0.9943867704232219 0.8159281306107955\n"
     ]
    },
    {
     "data": {
      "text/html": [
       "<div>\n",
       "<style scoped>\n",
       "    .dataframe tbody tr th:only-of-type {\n",
       "        vertical-align: middle;\n",
       "    }\n",
       "\n",
       "    .dataframe tbody tr th {\n",
       "        vertical-align: top;\n",
       "    }\n",
       "\n",
       "    .dataframe thead th {\n",
       "        text-align: right;\n",
       "    }\n",
       "</style>\n",
       "<table border=\"1\" class=\"dataframe\">\n",
       "  <thead>\n",
       "    <tr style=\"text-align: right;\">\n",
       "      <th></th>\n",
       "      <th>T</th>\n",
       "      <th>X</th>\n",
       "      <th>s1</th>\n",
       "      <th>s2</th>\n",
       "      <th>fx_obs</th>\n",
       "      <th>dG_obs</th>\n",
       "    </tr>\n",
       "  </thead>\n",
       "  <tbody>\n",
       "    <tr>\n",
       "      <th>0</th>\n",
       "      <td>1.0</td>\n",
       "      <td>0.000</td>\n",
       "      <td>0.994387</td>\n",
       "      <td>0.005613</td>\n",
       "      <td>0.994387</td>\n",
       "      <td>-5.177</td>\n",
       "    </tr>\n",
       "    <tr>\n",
       "      <th>1</th>\n",
       "      <td>1.0</td>\n",
       "      <td>3.333</td>\n",
       "      <td>0.184072</td>\n",
       "      <td>0.815928</td>\n",
       "      <td>0.184072</td>\n",
       "      <td>1.489</td>\n",
       "    </tr>\n",
       "  </tbody>\n",
       "</table>\n",
       "</div>"
      ],
      "text/plain": [
       "     T      X        s1        s2    fx_obs  dG_obs\n",
       "0  1.0  0.000  0.994387  0.005613  0.994387  -5.177\n",
       "1  1.0  3.333  0.184072  0.815928  0.184072   1.489"
      ]
     },
     "execution_count": 108,
     "metadata": {},
     "output_type": "execute_result"
    }
   ],
   "source": [
    "df = ens.get_obs(mu_dict=mu_dict,\n",
    "                 mut_energy={\"s1\":-1.677,\"s2\":3.333},\n",
    "                 T=1)\n",
    "v = np.array(df[\"fx_obs\"])\n",
    "print(ff_on(v[0]),ff_off(v[1]))\n",
    "df\n"
   ]
  },
  {
   "cell_type": "code",
   "execution_count": 109,
   "id": "7f4c3f06-027c-4984-94c8-b5c2b7bb4a3f",
   "metadata": {},
   "outputs": [
    {
     "name": "stdout",
     "output_type": "stream",
     "text": [
      "5.775822590594909e-08 0.999999999926446\n"
     ]
    },
    {
     "data": {
      "text/html": [
       "<div>\n",
       "<style scoped>\n",
       "    .dataframe tbody tr th:only-of-type {\n",
       "        vertical-align: middle;\n",
       "    }\n",
       "\n",
       "    .dataframe tbody tr th {\n",
       "        vertical-align: top;\n",
       "    }\n",
       "\n",
       "    .dataframe thead th {\n",
       "        text-align: right;\n",
       "    }\n",
       "</style>\n",
       "<table border=\"1\" class=\"dataframe\">\n",
       "  <thead>\n",
       "    <tr style=\"text-align: right;\">\n",
       "      <th></th>\n",
       "      <th>T</th>\n",
       "      <th>X</th>\n",
       "      <th>s1</th>\n",
       "      <th>s2</th>\n",
       "      <th>fx_obs</th>\n",
       "      <th>dG_obs</th>\n",
       "    </tr>\n",
       "  </thead>\n",
       "  <tbody>\n",
       "    <tr>\n",
       "      <th>0</th>\n",
       "      <td>1.0</td>\n",
       "      <td>0.000</td>\n",
       "      <td>5.775823e-08</td>\n",
       "      <td>1.0</td>\n",
       "      <td>5.775823e-08</td>\n",
       "      <td>16.667</td>\n",
       "    </tr>\n",
       "    <tr>\n",
       "      <th>1</th>\n",
       "      <td>1.0</td>\n",
       "      <td>3.333</td>\n",
       "      <td>7.355409e-11</td>\n",
       "      <td>1.0</td>\n",
       "      <td>7.355409e-11</td>\n",
       "      <td>23.333</td>\n",
       "    </tr>\n",
       "  </tbody>\n",
       "</table>\n",
       "</div>"
      ],
      "text/plain": [
       "     T      X            s1   s2        fx_obs  dG_obs\n",
       "0  1.0  0.000  5.775823e-08  1.0  5.775823e-08  16.667\n",
       "1  1.0  3.333  7.355409e-11  1.0  7.355409e-11  23.333"
      ]
     },
     "execution_count": 109,
     "metadata": {},
     "output_type": "execute_result"
    }
   ],
   "source": [
    "df = ens.get_obs(mu_dict=mu_dict,\n",
    "                 mut_energy={\"s1\":0.167,\"s2\":-16.667},\n",
    "                 T=1)\n",
    "v = np.array(df[\"fx_obs\"])\n",
    "print(ff_on(v[0]),ff_off(v[1]))\n",
    "df\n"
   ]
  },
  {
   "cell_type": "code",
   "execution_count": 64,
   "id": "a9a430ab-359d-49c9-ba5b-dd0bf450a18b",
   "metadata": {},
   "outputs": [
    {
     "name": "stdout",
     "output_type": "stream",
     "text": [
      "0.5408393068309133\n",
      "0.928795407551965\n",
      "5.7758225901700734e-08\n"
     ]
    }
   ],
   "source": [
    "print(fc.fitness({}))\n",
    "print(fc.fitness({\"s1\":-0.167,\"s2\":3.333}))\n",
    "print(fc.fitness({\"s1\":0.167,\"s2\":-16.667}))"
   ]
  },
  {
   "cell_type": "code",
   "execution_count": 97,
   "id": "eff73d57-c882-4cba-a2e4-08baf00e5a85",
   "metadata": {},
   "outputs": [
    {
     "data": {
      "application/vnd.jupyter.widget-view+json": {
       "model_id": "662f9d0d9d1b422ba93389427b22bfa1",
       "version_major": 2,
       "version_minor": 0
      },
      "text/plain": [
       "  0%|          | 0/999 [00:00<?, ?it/s]"
      ]
     },
     "metadata": {},
     "output_type": "display_data"
    }
   ],
   "source": [
    "gc, generations = wright_fisher(gc=gc,\n",
    "                                mutation_rate=0.001,\n",
    "                                population=10000,\n",
    "                                num_generations=1000,)"
   ]
  },
  {
   "cell_type": "code",
   "execution_count": 98,
   "id": "d2109160-bab4-49ba-8197-ce481bea6351",
   "metadata": {},
   "outputs": [
    {
     "name": "stdout",
     "output_type": "stream",
     "text": [
      "{'': 173565, 'A1V': 9821432, 'A1P': 5003}\n"
     ]
    }
   ],
   "source": [
    "\n",
    "genotypes = {}\n",
    "for gen in generations:\n",
    "    for g in gen:\n",
    "        mut_genotype = \"\".join(gc.genotypes[g].mutations)\n",
    "        if mut_genotype not in genotypes:\n",
    "            genotypes[mut_genotype] = 0\n",
    "        \n",
    "        genotypes[mut_genotype] += gen[g]\n",
    "        \n",
    "assert genotypes[\"A1V\"] > genotypes[\"A1P\"]\n",
    "print(genotypes)\n",
    "        "
   ]
  },
  {
   "cell_type": "code",
   "execution_count": 92,
   "id": "bd156870-8051-4302-bf8b-195aba0e4446",
   "metadata": {},
   "outputs": [
    {
     "data": {
      "text/plain": [
       "0.9900628059481937"
      ]
     },
     "execution_count": 92,
     "metadata": {},
     "output_type": "execute_result"
    }
   ],
   "source": [
    "9821432"
   ]
  },
  {
   "cell_type": "code",
   "execution_count": 82,
   "id": "06f04870-27db-4e42-8546-d00ef26f9277",
   "metadata": {},
   "outputs": [
    {
     "name": "stdout",
     "output_type": "stream",
     "text": [
      "0.84213\n",
      "0.15733\n",
      "0.00054\n"
     ]
    }
   ],
   "source": [
    "print(84213/100000)\n",
    "print(15733/100000)\n",
    "print(54/100000)"
   ]
  },
  {
   "cell_type": "code",
   "execution_count": 88,
   "id": "8ee6feff-ddb6-43bd-b199-6eebc384533c",
   "metadata": {},
   "outputs": [
    {
     "data": {
      "text/plain": [
       "0.0031964"
      ]
     },
     "execution_count": 88,
     "metadata": {},
     "output_type": "execute_result"
    }
   ],
   "source": [
    "31964/10000000"
   ]
  },
  {
   "cell_type": "code",
   "execution_count": null,
   "id": "b85d5e09-3c19-4647-b901-b50a00ab8aa7",
   "metadata": {},
   "outputs": [],
   "source": []
  }
 ],
 "metadata": {
  "kernelspec": {
   "display_name": "Python 3 (ipykernel)",
   "language": "python",
   "name": "python3"
  },
  "language_info": {
   "codemirror_mode": {
    "name": "ipython",
    "version": 3
   },
   "file_extension": ".py",
   "mimetype": "text/x-python",
   "name": "python",
   "nbconvert_exporter": "python",
   "pygments_lexer": "ipython3",
   "version": "3.9.12"
  }
 },
 "nbformat": 4,
 "nbformat_minor": 5
}
