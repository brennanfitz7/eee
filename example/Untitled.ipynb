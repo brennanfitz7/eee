{
 "cells": [
  {
   "cell_type": "code",
   "execution_count": 1,
   "id": "697b5de6-227b-44ae-a830-c860e836562c",
   "metadata": {},
   "outputs": [],
   "source": [
    "import pandas as pd"
   ]
  },
  {
   "cell_type": "code",
   "execution_count": 2,
   "id": "77c9b603-4c73-4129-b097-b838131506c7",
   "metadata": {},
   "outputs": [],
   "source": [
    "df = pd.DataFrame({\"test\":[1,2,3],\n",
    "                   \"this\":[1,2,3]})"
   ]
  },
  {
   "cell_type": "code",
   "execution_count": 3,
   "id": "daee3d77-8cef-47e3-9241-3963b3be68ab",
   "metadata": {},
   "outputs": [
    {
     "data": {
      "text/html": [
       "<div>\n",
       "<style scoped>\n",
       "    .dataframe tbody tr th:only-of-type {\n",
       "        vertical-align: middle;\n",
       "    }\n",
       "\n",
       "    .dataframe tbody tr th {\n",
       "        vertical-align: top;\n",
       "    }\n",
       "\n",
       "    .dataframe thead th {\n",
       "        text-align: right;\n",
       "    }\n",
       "</style>\n",
       "<table border=\"1\" class=\"dataframe\">\n",
       "  <thead>\n",
       "    <tr style=\"text-align: right;\">\n",
       "      <th></th>\n",
       "      <th>test</th>\n",
       "      <th>this</th>\n",
       "    </tr>\n",
       "  </thead>\n",
       "  <tbody>\n",
       "    <tr>\n",
       "      <th>0</th>\n",
       "      <td>1</td>\n",
       "      <td>1</td>\n",
       "    </tr>\n",
       "    <tr>\n",
       "      <th>1</th>\n",
       "      <td>2</td>\n",
       "      <td>2</td>\n",
       "    </tr>\n",
       "    <tr>\n",
       "      <th>2</th>\n",
       "      <td>3</td>\n",
       "      <td>3</td>\n",
       "    </tr>\n",
       "  </tbody>\n",
       "</table>\n",
       "</div>"
      ],
      "text/plain": [
       "   test  this\n",
       "0     1     1\n",
       "1     2     2\n",
       "2     3     3"
      ]
     },
     "execution_count": 3,
     "metadata": {},
     "output_type": "execute_result"
    }
   ],
   "source": [
    "df"
   ]
  },
  {
   "cell_type": "code",
   "execution_count": 6,
   "id": "8c791248-0771-4814-b6e5-5c9294582763",
   "metadata": {},
   "outputs": [],
   "source": [
    "df.to_csv(\"yo.csv\",mode='a',header=False,index=False)"
   ]
  },
  {
   "cell_type": "code",
   "execution_count": 8,
   "id": "9e244eb6-d7a8-4d3c-a339-9455970f9e21",
   "metadata": {},
   "outputs": [],
   "source": [
    "x = {1:[1,2,3],2:'a',0:None}"
   ]
  },
  {
   "cell_type": "code",
   "execution_count": 9,
   "id": "460e773c-6e3c-4f47-bf1e-83485898161e",
   "metadata": {},
   "outputs": [
    {
     "data": {
      "text/plain": [
       "2"
      ]
     },
     "execution_count": 9,
     "metadata": {},
     "output_type": "execute_result"
    }
   ],
   "source": [
    "max(x)"
   ]
  },
  {
   "cell_type": "code",
   "execution_count": null,
   "id": "ab5ac2fa-8db7-401d-aee1-efbdc9347923",
   "metadata": {},
   "outputs": [],
   "source": [
    "import copy\n",
    "\n",
    "test = [\"test\",\"this\"]\n",
    "test2 = copy.copy(test)\n",
    "\n",
    "print(test[0] is not test2[0])"
   ]
  },
  {
   "cell_type": "code",
   "execution_count": null,
   "id": "be15e192-37ae-4c3c-8a81-0750fd9a8991",
   "metadata": {},
   "outputs": [],
   "source": []
  }
 ],
 "metadata": {
  "kernelspec": {
   "display_name": "Python 3 (ipykernel)",
   "language": "python",
   "name": "python3"
  },
  "language_info": {
   "codemirror_mode": {
    "name": "ipython",
    "version": 3
   },
   "file_extension": ".py",
   "mimetype": "text/x-python",
   "name": "python",
   "nbconvert_exporter": "python",
   "pygments_lexer": "ipython3",
   "version": "3.9.12"
  }
 },
 "nbformat": 4,
 "nbformat_minor": 5
}
